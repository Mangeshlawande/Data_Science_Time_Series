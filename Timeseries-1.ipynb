{
 "cells": [
  {
   "cell_type": "code",
   "execution_count": 1,
   "id": "9a618d5b",
   "metadata": {},
   "outputs": [],
   "source": [
    "import pandas as pd"
   ]
  },
  {
   "cell_type": "code",
   "execution_count": 2,
   "id": "88742673",
   "metadata": {},
   "outputs": [
    {
     "name": "stdout",
     "output_type": "stream",
     "text": [
      "Collecting pandas_datareader\n",
      "  Downloading pandas_datareader-0.10.0-py3-none-any.whl (109 kB)\n",
      "     ---------------------------------------- 0.0/109.5 kB ? eta -:--:--\n",
      "     ----------- ---------------------------- 30.7/109.5 kB ? eta -:--:--\n",
      "     ----------- ---------------------------- 30.7/109.5 kB ? eta -:--:--\n",
      "     ----------- ---------------------------- 30.7/109.5 kB ? eta -:--:--\n",
      "     ----------- ---------------------------- 30.7/109.5 kB ? eta -:--:--\n",
      "     ------------------------------- ----- 92.2/109.5 kB 403.5 kB/s eta 0:00:01\n",
      "     ------------------------------- ----- 92.2/109.5 kB 403.5 kB/s eta 0:00:01\n",
      "     ------------------------------- ----- 92.2/109.5 kB 403.5 kB/s eta 0:00:01\n",
      "     ------------------------------- ----- 92.2/109.5 kB 403.5 kB/s eta 0:00:01\n",
      "     ------------------------------------ 109.5/109.5 kB 244.4 kB/s eta 0:00:00\n",
      "Requirement already satisfied: lxml in c:\\users\\mange\\anaconda3\\lib\\site-packages (from pandas_datareader) (4.9.3)\n",
      "Requirement already satisfied: pandas>=0.23 in c:\\users\\mange\\anaconda3\\lib\\site-packages (from pandas_datareader) (2.0.3)\n",
      "Requirement already satisfied: requests>=2.19.0 in c:\\users\\mange\\anaconda3\\lib\\site-packages (from pandas_datareader) (2.31.0)\n",
      "Requirement already satisfied: python-dateutil>=2.8.2 in c:\\users\\mange\\anaconda3\\lib\\site-packages (from pandas>=0.23->pandas_datareader) (2.8.2)\n",
      "Requirement already satisfied: pytz>=2020.1 in c:\\users\\mange\\anaconda3\\lib\\site-packages (from pandas>=0.23->pandas_datareader) (2023.3.post1)\n",
      "Requirement already satisfied: tzdata>=2022.1 in c:\\users\\mange\\anaconda3\\lib\\site-packages (from pandas>=0.23->pandas_datareader) (2023.3)\n",
      "Requirement already satisfied: numpy>=1.21.0 in c:\\users\\mange\\anaconda3\\lib\\site-packages (from pandas>=0.23->pandas_datareader) (1.24.3)\n",
      "Requirement already satisfied: charset-normalizer<4,>=2 in c:\\users\\mange\\anaconda3\\lib\\site-packages (from requests>=2.19.0->pandas_datareader) (2.0.4)\n",
      "Requirement already satisfied: idna<4,>=2.5 in c:\\users\\mange\\anaconda3\\lib\\site-packages (from requests>=2.19.0->pandas_datareader) (3.4)\n",
      "Requirement already satisfied: urllib3<3,>=1.21.1 in c:\\users\\mange\\anaconda3\\lib\\site-packages (from requests>=2.19.0->pandas_datareader) (1.26.16)\n",
      "Requirement already satisfied: certifi>=2017.4.17 in c:\\users\\mange\\anaconda3\\lib\\site-packages (from requests>=2.19.0->pandas_datareader) (2023.7.22)\n",
      "Requirement already satisfied: six>=1.5 in c:\\users\\mange\\anaconda3\\lib\\site-packages (from python-dateutil>=2.8.2->pandas>=0.23->pandas_datareader) (1.16.0)\n",
      "Installing collected packages: pandas_datareader\n",
      "Successfully installed pandas_datareader-0.10.0\n",
      "Note: you may need to restart the kernel to use updated packages.\n"
     ]
    }
   ],
   "source": [
    "# pip install pandas_datareader"
   ]
  },
  {
   "cell_type": "code",
   "execution_count": 3,
   "id": "5c588ab3",
   "metadata": {},
   "outputs": [
    {
     "name": "stdout",
     "output_type": "stream",
     "text": [
      "Requirement already satisfied: pip in c:\\users\\mange\\anaconda3\\lib\\site-packages (23.2.1)Note: you may need to restart the kernel to use updated packages.\n",
      "\n",
      "Collecting pip\n",
      "  Obtaining dependency information for pip from https://files.pythonhosted.org/packages/8a/6a/19e9fe04fca059ccf770861c7d5721ab4c2aebc539889e97c7977528a53b/pip-24.0-py3-none-any.whl.metadata\n",
      "  Using cached pip-24.0-py3-none-any.whl.metadata (3.6 kB)\n",
      "Using cached pip-24.0-py3-none-any.whl (2.1 MB)\n",
      "Installing collected packages: pip\n",
      "  Attempting uninstall: pip\n",
      "    Found existing installation: pip 23.2.1\n",
      "    Uninstalling pip-23.2.1:\n",
      "      Successfully uninstalled pip-23.2.1\n",
      "Successfully installed pip-24.0\n"
     ]
    }
   ],
   "source": [
    "pip install --upgrade pip \n"
   ]
  },
  {
   "cell_type": "code",
   "execution_count": 4,
   "id": "34a6d752",
   "metadata": {},
   "outputs": [],
   "source": [
    "# pip install pandas_datareader"
   ]
  },
  {
   "cell_type": "code",
   "execution_count": 5,
   "id": "4a59dd18",
   "metadata": {},
   "outputs": [],
   "source": [
    "import pandas_datareader.data as pdr"
   ]
  },
  {
   "cell_type": "code",
   "execution_count": 6,
   "id": "36e563f0",
   "metadata": {},
   "outputs": [],
   "source": [
    "import datetime as dt"
   ]
  },
  {
   "cell_type": "code",
   "execution_count": 7,
   "id": "9124b0d9",
   "metadata": {},
   "outputs": [],
   "source": [
    "sd = dt.datetime(2000, 1, 1)\n",
    "ed = dt.datetime(2020, 1, 1)\n"
   ]
  },
  {
   "cell_type": "code",
   "execution_count": 8,
   "id": "4f35be18",
   "metadata": {},
   "outputs": [],
   "source": [
    "data =  pdr.DataReader(\"AAPL\", \"stooq\", sd, ed)"
   ]
  },
  {
   "cell_type": "code",
   "execution_count": 9,
   "id": "9af98767",
   "metadata": {},
   "outputs": [
    {
     "data": {
      "text/html": [
       "<div>\n",
       "<style scoped>\n",
       "    .dataframe tbody tr th:only-of-type {\n",
       "        vertical-align: middle;\n",
       "    }\n",
       "\n",
       "    .dataframe tbody tr th {\n",
       "        vertical-align: top;\n",
       "    }\n",
       "\n",
       "    .dataframe thead th {\n",
       "        text-align: right;\n",
       "    }\n",
       "</style>\n",
       "<table border=\"1\" class=\"dataframe\">\n",
       "  <thead>\n",
       "    <tr style=\"text-align: right;\">\n",
       "      <th></th>\n",
       "      <th>Open</th>\n",
       "      <th>High</th>\n",
       "      <th>Low</th>\n",
       "      <th>Close</th>\n",
       "      <th>Volume</th>\n",
       "    </tr>\n",
       "    <tr>\n",
       "      <th>Date</th>\n",
       "      <th></th>\n",
       "      <th></th>\n",
       "      <th></th>\n",
       "      <th></th>\n",
       "      <th></th>\n",
       "    </tr>\n",
       "  </thead>\n",
       "  <tbody>\n",
       "    <tr>\n",
       "      <th>2019-12-31</th>\n",
       "      <td>71.0084</td>\n",
       "      <td>71.9246</td>\n",
       "      <td>70.9077</td>\n",
       "      <td>71.9176</td>\n",
       "      <td>1.030855e+08</td>\n",
       "    </tr>\n",
       "    <tr>\n",
       "      <th>2019-12-30</th>\n",
       "      <td>70.8938</td>\n",
       "      <td>71.6864</td>\n",
       "      <td>69.8549</td>\n",
       "      <td>71.3983</td>\n",
       "      <td>1.472306e+08</td>\n",
       "    </tr>\n",
       "    <tr>\n",
       "      <th>2019-12-27</th>\n",
       "      <td>71.3015</td>\n",
       "      <td>71.9974</td>\n",
       "      <td>70.5647</td>\n",
       "      <td>70.9755</td>\n",
       "      <td>1.494081e+08</td>\n",
       "    </tr>\n",
       "    <tr>\n",
       "      <th>2019-12-26</th>\n",
       "      <td>69.7592</td>\n",
       "      <td>71.0214</td>\n",
       "      <td>69.7303</td>\n",
       "      <td>71.0034</td>\n",
       "      <td>9.527219e+07</td>\n",
       "    </tr>\n",
       "    <tr>\n",
       "      <th>2019-12-24</th>\n",
       "      <td>69.7273</td>\n",
       "      <td>69.7762</td>\n",
       "      <td>69.2907</td>\n",
       "      <td>69.6226</td>\n",
       "      <td>4.948450e+07</td>\n",
       "    </tr>\n",
       "  </tbody>\n",
       "</table>\n",
       "</div>"
      ],
      "text/plain": [
       "               Open     High      Low    Close        Volume\n",
       "Date                                                        \n",
       "2019-12-31  71.0084  71.9246  70.9077  71.9176  1.030855e+08\n",
       "2019-12-30  70.8938  71.6864  69.8549  71.3983  1.472306e+08\n",
       "2019-12-27  71.3015  71.9974  70.5647  70.9755  1.494081e+08\n",
       "2019-12-26  69.7592  71.0214  69.7303  71.0034  9.527219e+07\n",
       "2019-12-24  69.7273  69.7762  69.2907  69.6226  4.948450e+07"
      ]
     },
     "execution_count": 9,
     "metadata": {},
     "output_type": "execute_result"
    }
   ],
   "source": [
    "data.head()"
   ]
  },
  {
   "cell_type": "code",
   "execution_count": 10,
   "id": "d5394408",
   "metadata": {},
   "outputs": [
    {
     "data": {
      "text/html": [
       "<div>\n",
       "<style scoped>\n",
       "    .dataframe tbody tr th:only-of-type {\n",
       "        vertical-align: middle;\n",
       "    }\n",
       "\n",
       "    .dataframe tbody tr th {\n",
       "        vertical-align: top;\n",
       "    }\n",
       "\n",
       "    .dataframe thead th {\n",
       "        text-align: right;\n",
       "    }\n",
       "</style>\n",
       "<table border=\"1\" class=\"dataframe\">\n",
       "  <thead>\n",
       "    <tr style=\"text-align: right;\">\n",
       "      <th></th>\n",
       "      <th>Open</th>\n",
       "      <th>High</th>\n",
       "      <th>Low</th>\n",
       "      <th>Close</th>\n",
       "      <th>Volume</th>\n",
       "    </tr>\n",
       "    <tr>\n",
       "      <th>Date</th>\n",
       "      <th></th>\n",
       "      <th></th>\n",
       "      <th></th>\n",
       "      <th></th>\n",
       "      <th></th>\n",
       "    </tr>\n",
       "  </thead>\n",
       "  <tbody>\n",
       "    <tr>\n",
       "      <th>2000-01-07</th>\n",
       "      <td>0.734260</td>\n",
       "      <td>0.768656</td>\n",
       "      <td>0.726983</td>\n",
       "      <td>0.757589</td>\n",
       "      <td>5.405029e+08</td>\n",
       "    </tr>\n",
       "    <tr>\n",
       "      <th>2000-01-06</th>\n",
       "      <td>0.807736</td>\n",
       "      <td>0.814416</td>\n",
       "      <td>0.722995</td>\n",
       "      <td>0.722995</td>\n",
       "      <td>9.009346e+08</td>\n",
       "    </tr>\n",
       "    <tr>\n",
       "      <th>2000-01-05</th>\n",
       "      <td>0.789591</td>\n",
       "      <td>0.841433</td>\n",
       "      <td>0.783809</td>\n",
       "      <td>0.791386</td>\n",
       "      <td>9.130750e+08</td>\n",
       "    </tr>\n",
       "    <tr>\n",
       "      <th>2000-01-04</th>\n",
       "      <td>0.823887</td>\n",
       "      <td>0.842031</td>\n",
       "      <td>0.770250</td>\n",
       "      <td>0.780021</td>\n",
       "      <td>6.010873e+08</td>\n",
       "    </tr>\n",
       "    <tr>\n",
       "      <th>2000-01-03</th>\n",
       "      <td>0.798165</td>\n",
       "      <td>0.855889</td>\n",
       "      <td>0.773839</td>\n",
       "      <td>0.851702</td>\n",
       "      <td>6.285611e+08</td>\n",
       "    </tr>\n",
       "  </tbody>\n",
       "</table>\n",
       "</div>"
      ],
      "text/plain": [
       "                Open      High       Low     Close        Volume\n",
       "Date                                                            \n",
       "2000-01-07  0.734260  0.768656  0.726983  0.757589  5.405029e+08\n",
       "2000-01-06  0.807736  0.814416  0.722995  0.722995  9.009346e+08\n",
       "2000-01-05  0.789591  0.841433  0.783809  0.791386  9.130750e+08\n",
       "2000-01-04  0.823887  0.842031  0.770250  0.780021  6.010873e+08\n",
       "2000-01-03  0.798165  0.855889  0.773839  0.851702  6.285611e+08"
      ]
     },
     "execution_count": 10,
     "metadata": {},
     "output_type": "execute_result"
    }
   ],
   "source": [
    "data.tail()"
   ]
  },
  {
   "cell_type": "code",
   "execution_count": 11,
   "id": "9ec0cdc3",
   "metadata": {},
   "outputs": [
    {
     "name": "stdout",
     "output_type": "stream",
     "text": [
      "<class 'pandas.core.frame.DataFrame'>\n",
      "DatetimeIndex: 5031 entries, 2019-12-31 to 2000-01-03\n",
      "Data columns (total 5 columns):\n",
      " #   Column  Non-Null Count  Dtype  \n",
      "---  ------  --------------  -----  \n",
      " 0   Open    5031 non-null   float64\n",
      " 1   High    5031 non-null   float64\n",
      " 2   Low     5031 non-null   float64\n",
      " 3   Close   5031 non-null   float64\n",
      " 4   Volume  5031 non-null   float64\n",
      "dtypes: float64(5)\n",
      "memory usage: 235.8 KB\n"
     ]
    }
   ],
   "source": [
    "data.info()"
   ]
  },
  {
   "cell_type": "code",
   "execution_count": 14,
   "id": "4adce2eb",
   "metadata": {},
   "outputs": [
    {
     "data": {
      "text/plain": [
       "<Axes: xlabel='Date'>"
      ]
     },
     "execution_count": 14,
     "metadata": {},
     "output_type": "execute_result"
    },
    {
     "data": {
      "image/png": "[encoded data removed]",
      "text/plain": [
       "<Figure size 1000x500 with 1 Axes>"
      ]
     },
     "metadata": {},
     "output_type": "display_data"
    }
   ],
   "source": [
    "data['High'].plot(figsize=(10, 5))"
   ]
  },
  {
   "cell_type": "code",
   "execution_count": 17,
   "id": "bb476779",
   "metadata": {},
   "outputs": [
    {
     "data": {
      "text/plain": [
       "<Axes: xlabel='Date'>"
      ]
     },
     "execution_count": 17,
     "metadata": {},
     "output_type": "execute_result"
    },
    {
     "data": {
      "image/png": "[encoded data removed]",
      "text/plain": [
       "<Figure size 1000x500 with 1 Axes>"
      ]
     },
     "metadata": {},
     "output_type": "display_data"
    }
   ],
   "source": [
    "data['Open'].plot(figsize=(10, 5))"
   ]
  },
  {
   "cell_type": "code",
   "execution_count": 18,
   "id": "b00fd9ae",
   "metadata": {},
   "outputs": [
    {
     "data": {
      "text/plain": [
       "<Axes: xlabel='Date'>"
      ]
     },
     "execution_count": 18,
     "metadata": {},
     "output_type": "execute_result"
    },
    {
     "data": {
      "image/png": "[encoded data removed]",
      "text/plain": [
       "<Figure size 1000x500 with 1 Axes>"
      ]
     },
     "metadata": {},
     "output_type": "display_data"
    }
   ],
   "source": [
    "data['Open'].plot(xlim = ['2010-01-01', '2020-01-01'], ylim = (0,70), figsize = (10, 5))"
   ]
  },
  {
   "cell_type": "code",
   "execution_count": 19,
   "id": "6bc7e0fa",
   "metadata": {},
   "outputs": [
    {
     "data": {
      "text/plain": [
       "<Axes: xlabel='Date'>"
      ]
     },
     "execution_count": 19,
     "metadata": {},
     "output_type": "execute_result"
    },
    {
     "data": {
      "image/png": "[encoded data removed]",
      "text/plain": [
       "<Figure size 1000x500 with 1 Axes>"
      ]
     },
     "metadata": {},
     "output_type": "display_data"
    }
   ],
   "source": [
    "data['Open'].plot(xlim = ['2010-01-01', '2020-01-01'], ylim = (0,70), figsize = (10, 5), c='red')"
   ]
  },
  {
   "cell_type": "code",
   "execution_count": 20,
   "id": "aee2e6da",
   "metadata": {},
   "outputs": [
    {
     "data": {
      "text/plain": [
       "DatetimeIndex(['2019-12-31', '2019-12-30', '2019-12-27', '2019-12-26',\n",
       "               '2019-12-24', '2019-12-23', '2019-12-20', '2019-12-19',\n",
       "               '2019-12-18', '2019-12-17',\n",
       "               ...\n",
       "               '2000-01-14', '2000-01-13', '2000-01-12', '2000-01-11',\n",
       "               '2000-01-10', '2000-01-07', '2000-01-06', '2000-01-05',\n",
       "               '2000-01-04', '2000-01-03'],\n",
       "              dtype='datetime64[ns]', name='Date', length=5031, freq=None)"
      ]
     },
     "execution_count": 20,
     "metadata": {},
     "output_type": "execute_result"
    }
   ],
   "source": [
    "data.index"
   ]
  },
  {
   "cell_type": "code",
   "execution_count": 22,
   "id": "abdddb21",
   "metadata": {},
   "outputs": [],
   "source": [
    "date = dt.datetime(2021, 11, 25)"
   ]
  },
  {
   "cell_type": "code",
   "execution_count": 23,
   "id": "27a2804b",
   "metadata": {},
   "outputs": [
    {
     "data": {
      "text/plain": [
       "datetime.datetime(2021, 11, 25, 0, 0)"
      ]
     },
     "execution_count": 23,
     "metadata": {},
     "output_type": "execute_result"
    }
   ],
   "source": [
    "date"
   ]
  },
  {
   "cell_type": "code",
   "execution_count": 24,
   "id": "84437944",
   "metadata": {},
   "outputs": [
    {
     "data": {
      "text/plain": [
       "datetime.datetime(2024, 2, 18, 16, 33, 16, 953901)"
      ]
     },
     "execution_count": 24,
     "metadata": {},
     "output_type": "execute_result"
    }
   ],
   "source": [
    "dt.datetime.now()"
   ]
  },
  {
   "cell_type": "code",
   "execution_count": 25,
   "id": "68c43b7c",
   "metadata": {},
   "outputs": [
    {
     "data": {
      "text/html": [
       "<div>\n",
       "<style scoped>\n",
       "    .dataframe tbody tr th:only-of-type {\n",
       "        vertical-align: middle;\n",
       "    }\n",
       "\n",
       "    .dataframe tbody tr th {\n",
       "        vertical-align: top;\n",
       "    }\n",
       "\n",
       "    .dataframe thead th {\n",
       "        text-align: right;\n",
       "    }\n",
       "</style>\n",
       "<table border=\"1\" class=\"dataframe\">\n",
       "  <thead>\n",
       "    <tr style=\"text-align: right;\">\n",
       "      <th></th>\n",
       "      <th>Open</th>\n",
       "      <th>High</th>\n",
       "      <th>Low</th>\n",
       "      <th>Close</th>\n",
       "      <th>Volume</th>\n",
       "    </tr>\n",
       "    <tr>\n",
       "      <th>Date</th>\n",
       "      <th></th>\n",
       "      <th></th>\n",
       "      <th></th>\n",
       "      <th></th>\n",
       "      <th></th>\n",
       "    </tr>\n",
       "  </thead>\n",
       "  <tbody>\n",
       "    <tr>\n",
       "      <th>2000-01-09</th>\n",
       "      <td>0.823887</td>\n",
       "      <td>0.855889</td>\n",
       "      <td>0.783809</td>\n",
       "      <td>0.851702</td>\n",
       "      <td>9.130750e+08</td>\n",
       "    </tr>\n",
       "    <tr>\n",
       "      <th>2000-01-16</th>\n",
       "      <td>0.776332</td>\n",
       "      <td>0.778126</td>\n",
       "      <td>0.756293</td>\n",
       "      <td>0.764368</td>\n",
       "      <td>1.211477e+09</td>\n",
       "    </tr>\n",
       "    <tr>\n",
       "      <th>2000-01-23</th>\n",
       "      <td>0.879318</td>\n",
       "      <td>0.924779</td>\n",
       "      <td>0.863865</td>\n",
       "      <td>0.863865</td>\n",
       "      <td>2.148163e+09</td>\n",
       "    </tr>\n",
       "    <tr>\n",
       "      <th>2000-01-30</th>\n",
       "      <td>0.837146</td>\n",
       "      <td>0.869149</td>\n",
       "      <td>0.835352</td>\n",
       "      <td>0.854095</td>\n",
       "      <td>5.832181e+08</td>\n",
       "    </tr>\n",
       "    <tr>\n",
       "      <th>2000-02-06</th>\n",
       "      <td>0.791386</td>\n",
       "      <td>0.837146</td>\n",
       "      <td>0.788595</td>\n",
       "      <td>0.822192</td>\n",
       "      <td>8.231642e+08</td>\n",
       "    </tr>\n",
       "    <tr>\n",
       "      <th>...</th>\n",
       "      <td>...</td>\n",
       "      <td>...</td>\n",
       "      <td>...</td>\n",
       "      <td>...</td>\n",
       "      <td>...</td>\n",
       "    </tr>\n",
       "    <tr>\n",
       "      <th>2019-12-08</th>\n",
       "      <td>65.511200</td>\n",
       "      <td>66.372600</td>\n",
       "      <td>65.468300</td>\n",
       "      <td>66.302700</td>\n",
       "      <td>1.199467e+08</td>\n",
       "    </tr>\n",
       "    <tr>\n",
       "      <th>2019-12-15</th>\n",
       "      <td>66.486200</td>\n",
       "      <td>67.427300</td>\n",
       "      <td>66.355600</td>\n",
       "      <td>67.391400</td>\n",
       "      <td>1.406056e+08</td>\n",
       "    </tr>\n",
       "    <tr>\n",
       "      <th>2019-12-22</th>\n",
       "      <td>69.123100</td>\n",
       "      <td>69.224900</td>\n",
       "      <td>68.363500</td>\n",
       "      <td>68.676500</td>\n",
       "      <td>2.818591e+08</td>\n",
       "    </tr>\n",
       "    <tr>\n",
       "      <th>2019-12-29</th>\n",
       "      <td>71.301500</td>\n",
       "      <td>71.997400</td>\n",
       "      <td>70.564700</td>\n",
       "      <td>71.003400</td>\n",
       "      <td>1.494081e+08</td>\n",
       "    </tr>\n",
       "    <tr>\n",
       "      <th>2020-01-05</th>\n",
       "      <td>71.008400</td>\n",
       "      <td>71.924600</td>\n",
       "      <td>70.907700</td>\n",
       "      <td>71.917600</td>\n",
       "      <td>1.472306e+08</td>\n",
       "    </tr>\n",
       "  </tbody>\n",
       "</table>\n",
       "<p>1044 rows × 5 columns</p>\n",
       "</div>"
      ],
      "text/plain": [
       "                 Open       High        Low      Close        Volume\n",
       "Date                                                                \n",
       "2000-01-09   0.823887   0.855889   0.783809   0.851702  9.130750e+08\n",
       "2000-01-16   0.776332   0.778126   0.756293   0.764368  1.211477e+09\n",
       "2000-01-23   0.879318   0.924779   0.863865   0.863865  2.148163e+09\n",
       "2000-01-30   0.837146   0.869149   0.835352   0.854095  5.832181e+08\n",
       "2000-02-06   0.791386   0.837146   0.788595   0.822192  8.231642e+08\n",
       "...               ...        ...        ...        ...           ...\n",
       "2019-12-08  65.511200  66.372600  65.468300  66.302700  1.199467e+08\n",
       "2019-12-15  66.486200  67.427300  66.355600  67.391400  1.406056e+08\n",
       "2019-12-22  69.123100  69.224900  68.363500  68.676500  2.818591e+08\n",
       "2019-12-29  71.301500  71.997400  70.564700  71.003400  1.494081e+08\n",
       "2020-01-05  71.008400  71.924600  70.907700  71.917600  1.472306e+08\n",
       "\n",
       "[1044 rows x 5 columns]"
      ]
     },
     "execution_count": 25,
     "metadata": {},
     "output_type": "execute_result"
    }
   ],
   "source": [
    "data.resample(rule='w').max()# take max value of parameter 'Open' & W for week\n"
   ]
  },
  {
   "cell_type": "code",
   "execution_count": 26,
   "id": "6e45b543",
   "metadata": {},
   "outputs": [
    {
     "data": {
      "text/html": [
       "<div>\n",
       "<style scoped>\n",
       "    .dataframe tbody tr th:only-of-type {\n",
       "        vertical-align: middle;\n",
       "    }\n",
       "\n",
       "    .dataframe tbody tr th {\n",
       "        vertical-align: top;\n",
       "    }\n",
       "\n",
       "    .dataframe thead th {\n",
       "        text-align: right;\n",
       "    }\n",
       "</style>\n",
       "<table border=\"1\" class=\"dataframe\">\n",
       "  <thead>\n",
       "    <tr style=\"text-align: right;\">\n",
       "      <th></th>\n",
       "      <th>Open</th>\n",
       "      <th>High</th>\n",
       "      <th>Low</th>\n",
       "      <th>Close</th>\n",
       "      <th>Volume</th>\n",
       "    </tr>\n",
       "    <tr>\n",
       "      <th>Date</th>\n",
       "      <th></th>\n",
       "      <th></th>\n",
       "      <th></th>\n",
       "      <th></th>\n",
       "      <th></th>\n",
       "    </tr>\n",
       "  </thead>\n",
       "  <tbody>\n",
       "    <tr>\n",
       "      <th>2000-01-31</th>\n",
       "      <td>0.045953</td>\n",
       "      <td>0.050257</td>\n",
       "      <td>0.052894</td>\n",
       "      <td>0.054476</td>\n",
       "      <td>4.017283e+08</td>\n",
       "    </tr>\n",
       "    <tr>\n",
       "      <th>2000-02-29</th>\n",
       "      <td>0.039869</td>\n",
       "      <td>0.038516</td>\n",
       "      <td>0.037117</td>\n",
       "      <td>0.040827</td>\n",
       "      <td>9.875306e+07</td>\n",
       "    </tr>\n",
       "    <tr>\n",
       "      <th>2000-03-31</th>\n",
       "      <td>0.061367</td>\n",
       "      <td>0.065534</td>\n",
       "      <td>0.059850</td>\n",
       "      <td>0.064413</td>\n",
       "      <td>2.207699e+08</td>\n",
       "    </tr>\n",
       "    <tr>\n",
       "      <th>2000-04-30</th>\n",
       "      <td>0.058713</td>\n",
       "      <td>0.044086</td>\n",
       "      <td>0.049827</td>\n",
       "      <td>0.049607</td>\n",
       "      <td>2.224903e+08</td>\n",
       "    </tr>\n",
       "    <tr>\n",
       "      <th>2000-05-31</th>\n",
       "      <td>0.090931</td>\n",
       "      <td>0.089049</td>\n",
       "      <td>0.091396</td>\n",
       "      <td>0.089359</td>\n",
       "      <td>2.113736e+08</td>\n",
       "    </tr>\n",
       "    <tr>\n",
       "      <th>...</th>\n",
       "      <td>...</td>\n",
       "      <td>...</td>\n",
       "      <td>...</td>\n",
       "      <td>...</td>\n",
       "      <td>...</td>\n",
       "    </tr>\n",
       "    <tr>\n",
       "      <th>2019-08-31</th>\n",
       "      <td>1.391968</td>\n",
       "      <td>1.365265</td>\n",
       "      <td>1.376806</td>\n",
       "      <td>1.271467</td>\n",
       "      <td>4.498765e+07</td>\n",
       "    </tr>\n",
       "    <tr>\n",
       "      <th>2019-09-30</th>\n",
       "      <td>1.153371</td>\n",
       "      <td>1.229082</td>\n",
       "      <td>1.152495</td>\n",
       "      <td>1.175159</td>\n",
       "      <td>4.140169e+07</td>\n",
       "    </tr>\n",
       "    <tr>\n",
       "      <th>2019-10-31</th>\n",
       "      <td>2.167332</td>\n",
       "      <td>2.105341</td>\n",
       "      <td>2.082141</td>\n",
       "      <td>2.178012</td>\n",
       "      <td>2.944250e+07</td>\n",
       "    </tr>\n",
       "    <tr>\n",
       "      <th>2019-11-30</th>\n",
       "      <td>1.171459</td>\n",
       "      <td>1.017411</td>\n",
       "      <td>1.079173</td>\n",
       "      <td>0.970924</td>\n",
       "      <td>2.326984e+07</td>\n",
       "    </tr>\n",
       "    <tr>\n",
       "      <th>2019-12-31</th>\n",
       "      <td>2.395551</td>\n",
       "      <td>2.486615</td>\n",
       "      <td>2.394144</td>\n",
       "      <td>2.497693</td>\n",
       "      <td>4.618967e+07</td>\n",
       "    </tr>\n",
       "  </tbody>\n",
       "</table>\n",
       "<p>240 rows × 5 columns</p>\n",
       "</div>"
      ],
      "text/plain": [
       "                Open      High       Low     Close        Volume\n",
       "Date                                                            \n",
       "2000-01-31  0.045953  0.050257  0.052894  0.054476  4.017283e+08\n",
       "2000-02-29  0.039869  0.038516  0.037117  0.040827  9.875306e+07\n",
       "2000-03-31  0.061367  0.065534  0.059850  0.064413  2.207699e+08\n",
       "2000-04-30  0.058713  0.044086  0.049827  0.049607  2.224903e+08\n",
       "2000-05-31  0.090931  0.089049  0.091396  0.089359  2.113736e+08\n",
       "...              ...       ...       ...       ...           ...\n",
       "2019-08-31  1.391968  1.365265  1.376806  1.271467  4.498765e+07\n",
       "2019-09-30  1.153371  1.229082  1.152495  1.175159  4.140169e+07\n",
       "2019-10-31  2.167332  2.105341  2.082141  2.178012  2.944250e+07\n",
       "2019-11-30  1.171459  1.017411  1.079173  0.970924  2.326984e+07\n",
       "2019-12-31  2.395551  2.486615  2.394144  2.497693  4.618967e+07\n",
       "\n",
       "[240 rows x 5 columns]"
      ]
     },
     "execution_count": 26,
     "metadata": {},
     "output_type": "execute_result"
    }
   ],
   "source": [
    "data.resample(rule='m').std()# for Month"
   ]
  },
  {
   "cell_type": "code",
   "execution_count": 27,
   "id": "998d1e83",
   "metadata": {},
   "outputs": [
    {
     "data": {
      "text/html": [
       "<div>\n",
       "<style scoped>\n",
       "    .dataframe tbody tr th:only-of-type {\n",
       "        vertical-align: middle;\n",
       "    }\n",
       "\n",
       "    .dataframe tbody tr th {\n",
       "        vertical-align: top;\n",
       "    }\n",
       "\n",
       "    .dataframe thead th {\n",
       "        text-align: right;\n",
       "    }\n",
       "</style>\n",
       "<table border=\"1\" class=\"dataframe\">\n",
       "  <thead>\n",
       "    <tr style=\"text-align: right;\">\n",
       "      <th></th>\n",
       "      <th>Open</th>\n",
       "      <th>High</th>\n",
       "      <th>Low</th>\n",
       "      <th>Close</th>\n",
       "      <th>Volume</th>\n",
       "    </tr>\n",
       "    <tr>\n",
       "      <th>Date</th>\n",
       "      <th></th>\n",
       "      <th></th>\n",
       "      <th></th>\n",
       "      <th></th>\n",
       "      <th></th>\n",
       "    </tr>\n",
       "  </thead>\n",
       "  <tbody>\n",
       "    <tr>\n",
       "      <th>2000-01-01</th>\n",
       "      <td>20</td>\n",
       "      <td>20</td>\n",
       "      <td>20</td>\n",
       "      <td>20</td>\n",
       "      <td>20</td>\n",
       "    </tr>\n",
       "    <tr>\n",
       "      <th>2000-02-01</th>\n",
       "      <td>20</td>\n",
       "      <td>20</td>\n",
       "      <td>20</td>\n",
       "      <td>20</td>\n",
       "      <td>20</td>\n",
       "    </tr>\n",
       "    <tr>\n",
       "      <th>2000-03-01</th>\n",
       "      <td>23</td>\n",
       "      <td>23</td>\n",
       "      <td>23</td>\n",
       "      <td>23</td>\n",
       "      <td>23</td>\n",
       "    </tr>\n",
       "    <tr>\n",
       "      <th>2000-04-01</th>\n",
       "      <td>19</td>\n",
       "      <td>19</td>\n",
       "      <td>19</td>\n",
       "      <td>19</td>\n",
       "      <td>19</td>\n",
       "    </tr>\n",
       "    <tr>\n",
       "      <th>2000-05-01</th>\n",
       "      <td>22</td>\n",
       "      <td>22</td>\n",
       "      <td>22</td>\n",
       "      <td>22</td>\n",
       "      <td>22</td>\n",
       "    </tr>\n",
       "    <tr>\n",
       "      <th>...</th>\n",
       "      <td>...</td>\n",
       "      <td>...</td>\n",
       "      <td>...</td>\n",
       "      <td>...</td>\n",
       "      <td>...</td>\n",
       "    </tr>\n",
       "    <tr>\n",
       "      <th>2019-08-01</th>\n",
       "      <td>22</td>\n",
       "      <td>22</td>\n",
       "      <td>22</td>\n",
       "      <td>22</td>\n",
       "      <td>22</td>\n",
       "    </tr>\n",
       "    <tr>\n",
       "      <th>2019-09-01</th>\n",
       "      <td>20</td>\n",
       "      <td>20</td>\n",
       "      <td>20</td>\n",
       "      <td>20</td>\n",
       "      <td>20</td>\n",
       "    </tr>\n",
       "    <tr>\n",
       "      <th>2019-10-01</th>\n",
       "      <td>23</td>\n",
       "      <td>23</td>\n",
       "      <td>23</td>\n",
       "      <td>23</td>\n",
       "      <td>23</td>\n",
       "    </tr>\n",
       "    <tr>\n",
       "      <th>2019-11-01</th>\n",
       "      <td>20</td>\n",
       "      <td>20</td>\n",
       "      <td>20</td>\n",
       "      <td>20</td>\n",
       "      <td>20</td>\n",
       "    </tr>\n",
       "    <tr>\n",
       "      <th>2019-12-01</th>\n",
       "      <td>21</td>\n",
       "      <td>21</td>\n",
       "      <td>21</td>\n",
       "      <td>21</td>\n",
       "      <td>21</td>\n",
       "    </tr>\n",
       "  </tbody>\n",
       "</table>\n",
       "<p>240 rows × 5 columns</p>\n",
       "</div>"
      ],
      "text/plain": [
       "            Open  High  Low  Close  Volume\n",
       "Date                                      \n",
       "2000-01-01    20    20   20     20      20\n",
       "2000-02-01    20    20   20     20      20\n",
       "2000-03-01    23    23   23     23      23\n",
       "2000-04-01    19    19   19     19      19\n",
       "2000-05-01    22    22   22     22      22\n",
       "...          ...   ...  ...    ...     ...\n",
       "2019-08-01    22    22   22     22      22\n",
       "2019-09-01    20    20   20     20      20\n",
       "2019-10-01    23    23   23     23      23\n",
       "2019-11-01    20    20   20     20      20\n",
       "2019-12-01    21    21   21     21      21\n",
       "\n",
       "[240 rows x 5 columns]"
      ]
     },
     "execution_count": 27,
     "metadata": {},
     "output_type": "execute_result"
    }
   ],
   "source": [
    "data.resample(rule='MS').count()# for month start"
   ]
  },
  {
   "cell_type": "code",
   "execution_count": 34,
   "id": "fa46c723",
   "metadata": {},
   "outputs": [
    {
     "data": {
      "text/html": [
       "<div>\n",
       "<style scoped>\n",
       "    .dataframe tbody tr th:only-of-type {\n",
       "        vertical-align: middle;\n",
       "    }\n",
       "\n",
       "    .dataframe tbody tr th {\n",
       "        vertical-align: top;\n",
       "    }\n",
       "\n",
       "    .dataframe thead th {\n",
       "        text-align: right;\n",
       "    }\n",
       "</style>\n",
       "<table border=\"1\" class=\"dataframe\">\n",
       "  <thead>\n",
       "    <tr style=\"text-align: right;\">\n",
       "      <th></th>\n",
       "      <th>Open</th>\n",
       "      <th>High</th>\n",
       "      <th>Low</th>\n",
       "      <th>Close</th>\n",
       "      <th>Volume</th>\n",
       "    </tr>\n",
       "    <tr>\n",
       "      <th>Date</th>\n",
       "      <th></th>\n",
       "      <th></th>\n",
       "      <th></th>\n",
       "      <th></th>\n",
       "      <th></th>\n",
       "    </tr>\n",
       "  </thead>\n",
       "  <tbody>\n",
       "    <tr>\n",
       "      <th>2000-01-03</th>\n",
       "      <td>0.798165</td>\n",
       "      <td>0.855889</td>\n",
       "      <td>0.773839</td>\n",
       "      <td>0.851702</td>\n",
       "      <td>6.285611e+08</td>\n",
       "    </tr>\n",
       "    <tr>\n",
       "      <th>2000-01-04</th>\n",
       "      <td>0.823887</td>\n",
       "      <td>0.842031</td>\n",
       "      <td>0.770250</td>\n",
       "      <td>0.780021</td>\n",
       "      <td>6.010873e+08</td>\n",
       "    </tr>\n",
       "    <tr>\n",
       "      <th>2000-01-05</th>\n",
       "      <td>0.789591</td>\n",
       "      <td>0.841433</td>\n",
       "      <td>0.783809</td>\n",
       "      <td>0.791386</td>\n",
       "      <td>9.130750e+08</td>\n",
       "    </tr>\n",
       "    <tr>\n",
       "      <th>2000-01-06</th>\n",
       "      <td>0.807736</td>\n",
       "      <td>0.814416</td>\n",
       "      <td>0.722995</td>\n",
       "      <td>0.722995</td>\n",
       "      <td>9.009346e+08</td>\n",
       "    </tr>\n",
       "    <tr>\n",
       "      <th>2000-01-07</th>\n",
       "      <td>0.734260</td>\n",
       "      <td>0.768656</td>\n",
       "      <td>0.726983</td>\n",
       "      <td>0.757589</td>\n",
       "      <td>5.405029e+08</td>\n",
       "    </tr>\n",
       "    <tr>\n",
       "      <th>...</th>\n",
       "      <td>...</td>\n",
       "      <td>...</td>\n",
       "      <td>...</td>\n",
       "      <td>...</td>\n",
       "      <td>...</td>\n",
       "    </tr>\n",
       "    <tr>\n",
       "      <th>2019-12-27</th>\n",
       "      <td>71.301500</td>\n",
       "      <td>71.997400</td>\n",
       "      <td>70.564700</td>\n",
       "      <td>70.975500</td>\n",
       "      <td>1.494081e+08</td>\n",
       "    </tr>\n",
       "    <tr>\n",
       "      <th>2019-12-28</th>\n",
       "      <td>NaN</td>\n",
       "      <td>NaN</td>\n",
       "      <td>NaN</td>\n",
       "      <td>NaN</td>\n",
       "      <td>NaN</td>\n",
       "    </tr>\n",
       "    <tr>\n",
       "      <th>2019-12-29</th>\n",
       "      <td>NaN</td>\n",
       "      <td>NaN</td>\n",
       "      <td>NaN</td>\n",
       "      <td>NaN</td>\n",
       "      <td>NaN</td>\n",
       "    </tr>\n",
       "    <tr>\n",
       "      <th>2019-12-30</th>\n",
       "      <td>70.893800</td>\n",
       "      <td>71.686400</td>\n",
       "      <td>69.854900</td>\n",
       "      <td>71.398300</td>\n",
       "      <td>1.472306e+08</td>\n",
       "    </tr>\n",
       "    <tr>\n",
       "      <th>2019-12-31</th>\n",
       "      <td>71.008400</td>\n",
       "      <td>71.924600</td>\n",
       "      <td>70.907700</td>\n",
       "      <td>71.917600</td>\n",
       "      <td>1.030855e+08</td>\n",
       "    </tr>\n",
       "  </tbody>\n",
       "</table>\n",
       "<p>7303 rows × 5 columns</p>\n",
       "</div>"
      ],
      "text/plain": [
       "                 Open       High        Low      Close        Volume\n",
       "Date                                                                \n",
       "2000-01-03   0.798165   0.855889   0.773839   0.851702  6.285611e+08\n",
       "2000-01-04   0.823887   0.842031   0.770250   0.780021  6.010873e+08\n",
       "2000-01-05   0.789591   0.841433   0.783809   0.791386  9.130750e+08\n",
       "2000-01-06   0.807736   0.814416   0.722995   0.722995  9.009346e+08\n",
       "2000-01-07   0.734260   0.768656   0.726983   0.757589  5.405029e+08\n",
       "...               ...        ...        ...        ...           ...\n",
       "2019-12-27  71.301500  71.997400  70.564700  70.975500  1.494081e+08\n",
       "2019-12-28        NaN        NaN        NaN        NaN           NaN\n",
       "2019-12-29        NaN        NaN        NaN        NaN           NaN\n",
       "2019-12-30  70.893800  71.686400  69.854900  71.398300  1.472306e+08\n",
       "2019-12-31  71.008400  71.924600  70.907700  71.917600  1.030855e+08\n",
       "\n",
       "[7303 rows x 5 columns]"
      ]
     },
     "execution_count": 34,
     "metadata": {},
     "output_type": "execute_result"
    }
   ],
   "source": [
    "data.resample(rule=\"D\").mean()"
   ]
  },
  {
   "cell_type": "code",
   "execution_count": 35,
   "id": "50797b1e",
   "metadata": {},
   "outputs": [
    {
     "data": {
      "text/html": [
       "<div>\n",
       "<style scoped>\n",
       "    .dataframe tbody tr th:only-of-type {\n",
       "        vertical-align: middle;\n",
       "    }\n",
       "\n",
       "    .dataframe tbody tr th {\n",
       "        vertical-align: top;\n",
       "    }\n",
       "\n",
       "    .dataframe thead th {\n",
       "        text-align: right;\n",
       "    }\n",
       "</style>\n",
       "<table border=\"1\" class=\"dataframe\">\n",
       "  <thead>\n",
       "    <tr style=\"text-align: right;\">\n",
       "      <th></th>\n",
       "      <th>Open</th>\n",
       "      <th>High</th>\n",
       "      <th>Low</th>\n",
       "      <th>Close</th>\n",
       "      <th>Volume</th>\n",
       "    </tr>\n",
       "    <tr>\n",
       "      <th>Date</th>\n",
       "      <th></th>\n",
       "      <th></th>\n",
       "      <th></th>\n",
       "      <th></th>\n",
       "      <th></th>\n",
       "    </tr>\n",
       "  </thead>\n",
       "  <tbody>\n",
       "    <tr>\n",
       "      <th>2000-01-03 00:00:00</th>\n",
       "      <td>0.798165</td>\n",
       "      <td>0.855889</td>\n",
       "      <td>0.773839</td>\n",
       "      <td>0.851702</td>\n",
       "      <td>6.285611e+08</td>\n",
       "    </tr>\n",
       "    <tr>\n",
       "      <th>2000-01-03 01:00:00</th>\n",
       "      <td>NaN</td>\n",
       "      <td>NaN</td>\n",
       "      <td>NaN</td>\n",
       "      <td>NaN</td>\n",
       "      <td>NaN</td>\n",
       "    </tr>\n",
       "    <tr>\n",
       "      <th>2000-01-03 02:00:00</th>\n",
       "      <td>NaN</td>\n",
       "      <td>NaN</td>\n",
       "      <td>NaN</td>\n",
       "      <td>NaN</td>\n",
       "      <td>NaN</td>\n",
       "    </tr>\n",
       "    <tr>\n",
       "      <th>2000-01-03 03:00:00</th>\n",
       "      <td>NaN</td>\n",
       "      <td>NaN</td>\n",
       "      <td>NaN</td>\n",
       "      <td>NaN</td>\n",
       "      <td>NaN</td>\n",
       "    </tr>\n",
       "    <tr>\n",
       "      <th>2000-01-03 04:00:00</th>\n",
       "      <td>NaN</td>\n",
       "      <td>NaN</td>\n",
       "      <td>NaN</td>\n",
       "      <td>NaN</td>\n",
       "      <td>NaN</td>\n",
       "    </tr>\n",
       "    <tr>\n",
       "      <th>...</th>\n",
       "      <td>...</td>\n",
       "      <td>...</td>\n",
       "      <td>...</td>\n",
       "      <td>...</td>\n",
       "      <td>...</td>\n",
       "    </tr>\n",
       "    <tr>\n",
       "      <th>2019-12-30 20:00:00</th>\n",
       "      <td>NaN</td>\n",
       "      <td>NaN</td>\n",
       "      <td>NaN</td>\n",
       "      <td>NaN</td>\n",
       "      <td>NaN</td>\n",
       "    </tr>\n",
       "    <tr>\n",
       "      <th>2019-12-30 21:00:00</th>\n",
       "      <td>NaN</td>\n",
       "      <td>NaN</td>\n",
       "      <td>NaN</td>\n",
       "      <td>NaN</td>\n",
       "      <td>NaN</td>\n",
       "    </tr>\n",
       "    <tr>\n",
       "      <th>2019-12-30 22:00:00</th>\n",
       "      <td>NaN</td>\n",
       "      <td>NaN</td>\n",
       "      <td>NaN</td>\n",
       "      <td>NaN</td>\n",
       "      <td>NaN</td>\n",
       "    </tr>\n",
       "    <tr>\n",
       "      <th>2019-12-30 23:00:00</th>\n",
       "      <td>NaN</td>\n",
       "      <td>NaN</td>\n",
       "      <td>NaN</td>\n",
       "      <td>NaN</td>\n",
       "      <td>NaN</td>\n",
       "    </tr>\n",
       "    <tr>\n",
       "      <th>2019-12-31 00:00:00</th>\n",
       "      <td>71.008400</td>\n",
       "      <td>71.924600</td>\n",
       "      <td>70.907700</td>\n",
       "      <td>71.917600</td>\n",
       "      <td>1.030855e+08</td>\n",
       "    </tr>\n",
       "  </tbody>\n",
       "</table>\n",
       "<p>175249 rows × 5 columns</p>\n",
       "</div>"
      ],
      "text/plain": [
       "                          Open       High        Low      Close        Volume\n",
       "Date                                                                         \n",
       "2000-01-03 00:00:00   0.798165   0.855889   0.773839   0.851702  6.285611e+08\n",
       "2000-01-03 01:00:00        NaN        NaN        NaN        NaN           NaN\n",
       "2000-01-03 02:00:00        NaN        NaN        NaN        NaN           NaN\n",
       "2000-01-03 03:00:00        NaN        NaN        NaN        NaN           NaN\n",
       "2000-01-03 04:00:00        NaN        NaN        NaN        NaN           NaN\n",
       "...                        ...        ...        ...        ...           ...\n",
       "2019-12-30 20:00:00        NaN        NaN        NaN        NaN           NaN\n",
       "2019-12-30 21:00:00        NaN        NaN        NaN        NaN           NaN\n",
       "2019-12-30 22:00:00        NaN        NaN        NaN        NaN           NaN\n",
       "2019-12-30 23:00:00        NaN        NaN        NaN        NaN           NaN\n",
       "2019-12-31 00:00:00  71.008400  71.924600  70.907700  71.917600  1.030855e+08\n",
       "\n",
       "[175249 rows x 5 columns]"
      ]
     },
     "execution_count": 35,
     "metadata": {},
     "output_type": "execute_result"
    }
   ],
   "source": [
    "data.resample(rule=\"H\").mean()"
   ]
  },
  {
   "cell_type": "code",
   "execution_count": 39,
   "id": "4825c1e5",
   "metadata": {},
   "outputs": [
    {
     "data": {
      "text/plain": [
       "<Axes: xlabel='Date'>"
      ]
     },
     "execution_count": 39,
     "metadata": {},
     "output_type": "execute_result"
    },
    {
     "data": {
      "image/png": "[encoded data removed]",
      "text/plain": [
       "<Figure size 640x480 with 1 Axes>"
      ]
     },
     "metadata": {},
     "output_type": "display_data"
    }
   ],
   "source": [
    "data.resample(rule='MS').max()['Open'].plot()"
   ]
  },
  {
   "cell_type": "code",
   "execution_count": 40,
   "id": "b4578454",
   "metadata": {},
   "outputs": [
    {
     "data": {
      "text/plain": [
       "<Axes: xlabel='Date'>"
      ]
     },
     "execution_count": 40,
     "metadata": {},
     "output_type": "execute_result"
    },
    {
     "data": {
      "image/png": "[encoded data removed]",
      "text/plain": [
       "<Figure size 640x480 with 1 Axes>"
      ]
     },
     "metadata": {},
     "output_type": "display_data"
    }
   ],
   "source": [
    "data.resample(rule='A').max()['Open'].plot(kind='bar')# year end"
   ]
  },
  {
   "cell_type": "code",
   "execution_count": 41,
   "id": "d04b730d",
   "metadata": {},
   "outputs": [],
   "source": [
    "# simple moving average \n",
    "# (Window =5) , min_period(n)= (n-1), rolling method we use\n",
    "\n",
    "#cumulative moving average , expanding method we use "
   ]
  },
  {
   "cell_type": "code",
   "execution_count": 48,
   "id": "eda68fdf",
   "metadata": {},
   "outputs": [
    {
     "data": {
      "text/plain": [
       "0    NaN\n",
       "1    1.5\n",
       "2    2.0\n",
       "3    2.5\n",
       "4    3.0\n",
       "5    4.0\n",
       "6    5.0\n",
       "7    6.0\n",
       "8    7.0\n",
       "9    8.0\n",
       "Name: x, dtype: float64"
      ]
     },
     "execution_count": 48,
     "metadata": {},
     "output_type": "execute_result"
    }
   ],
   "source": [
    "import numpy as np\n",
    "import pandas as pd\n",
    "a = np.array([1,2,3,4,5,6,7,8,9,10])\n",
    "df =pd.DataFrame(data=a , columns= ['x'])\n",
    "df['x'].rolling(5, min_periods = 2).mean()data"
   ]
  },
  {
   "cell_type": "code",
   "execution_count": 45,
   "id": "bfcc6c33",
   "metadata": {},
   "outputs": [
    {
     "data": {
      "text/plain": [
       "0     1\n",
       "1     2\n",
       "2     3\n",
       "3     4\n",
       "4     5\n",
       "5     6\n",
       "6     7\n",
       "7     8\n",
       "8     9\n",
       "9    10\n",
       "Name: x, dtype: int32"
      ]
     },
     "execution_count": 45,
     "metadata": {},
     "output_type": "execute_result"
    }
   ],
   "source": [
    "df['x']"
   ]
  },
  {
   "cell_type": "code",
   "execution_count": 46,
   "id": "4b66d972",
   "metadata": {},
   "outputs": [
    {
     "data": {
      "text/plain": [
       "0    1.0\n",
       "1    1.5\n",
       "2    2.0\n",
       "3    2.5\n",
       "4    3.0\n",
       "5    3.5\n",
       "6    4.0\n",
       "7    4.5\n",
       "8    5.0\n",
       "9    5.5\n",
       "Name: x, dtype: float64"
      ]
     },
     "execution_count": 46,
     "metadata": {},
     "output_type": "execute_result"
    }
   ],
   "source": [
    "df['x'].expanding().mean()"
   ]
  },
  {
   "cell_type": "code",
   "execution_count": null,
   "id": "fa97c5f9",
   "metadata": {},
   "outputs": [],
   "source": []
  },
  {
   "cell_type": "code",
   "execution_count": 49,
   "id": "e77bf2d7",
   "metadata": {},
   "outputs": [
    {
     "data": {
      "text/plain": [
       "Date\n",
       "2019-12-31        NaN\n",
       "2019-12-30        NaN\n",
       "2019-12-27        NaN\n",
       "2019-12-26        NaN\n",
       "2019-12-24    71.3015\n",
       "2019-12-23    71.3015\n",
       "2019-12-20    71.3015\n",
       "2019-12-19    69.7592\n",
       "2019-12-18    69.7273\n",
       "2019-12-17    69.1231\n",
       "2019-12-16    69.1231\n",
       "2019-12-13    68.5300\n",
       "2019-12-12    68.5300\n",
       "2019-12-11    68.4731\n",
       "2019-12-10    67.8401\n",
       "Name: Open, dtype: float64"
      ]
     },
     "execution_count": 49,
     "metadata": {},
     "output_type": "execute_result"
    }
   ],
   "source": [
    "data['Open'].rolling(5).max().head(15)"
   ]
  },
  {
   "cell_type": "code",
   "execution_count": 50,
   "id": "51d66a2b",
   "metadata": {},
   "outputs": [
    {
     "data": {
      "text/plain": [
       "Date\n",
       "2019-12-31         NaN\n",
       "2019-12-30         NaN\n",
       "2019-12-27         NaN\n",
       "2019-12-26         NaN\n",
       "2019-12-24    70.53804\n",
       "2019-12-23    70.07764\n",
       "2019-12-20    69.72350\n",
       "2019-12-19    69.15464\n",
       "2019-12-18    68.90880\n",
       "2019-12-17    68.65796\n",
       "Name: Open, dtype: float64"
      ]
     },
     "execution_count": 50,
     "metadata": {},
     "output_type": "execute_result"
    }
   ],
   "source": [
    "data['Open'].rolling(5).mean().head(10)"
   ]
  },
  {
   "cell_type": "code",
   "execution_count": 51,
   "id": "1c8c21ad",
   "metadata": {},
   "outputs": [],
   "source": [
    "data['Open rolling'] = data['Open'].rolling(50).mean()"
   ]
  },
  {
   "cell_type": "code",
   "execution_count": 52,
   "id": "2a0f22b6",
   "metadata": {},
   "outputs": [
    {
     "data": {
      "text/html": [
       "<div>\n",
       "<style scoped>\n",
       "    .dataframe tbody tr th:only-of-type {\n",
       "        vertical-align: middle;\n",
       "    }\n",
       "\n",
       "    .dataframe tbody tr th {\n",
       "        vertical-align: top;\n",
       "    }\n",
       "\n",
       "    .dataframe thead th {\n",
       "        text-align: right;\n",
       "    }\n",
       "</style>\n",
       "<table border=\"1\" class=\"dataframe\">\n",
       "  <thead>\n",
       "    <tr style=\"text-align: right;\">\n",
       "      <th></th>\n",
       "      <th>Open</th>\n",
       "      <th>High</th>\n",
       "      <th>Low</th>\n",
       "      <th>Close</th>\n",
       "      <th>Volume</th>\n",
       "      <th>Open rolling</th>\n",
       "    </tr>\n",
       "    <tr>\n",
       "      <th>Date</th>\n",
       "      <th></th>\n",
       "      <th></th>\n",
       "      <th></th>\n",
       "      <th></th>\n",
       "      <th></th>\n",
       "      <th></th>\n",
       "    </tr>\n",
       "  </thead>\n",
       "  <tbody>\n",
       "    <tr>\n",
       "      <th>2019-12-31</th>\n",
       "      <td>71.008400</td>\n",
       "      <td>71.924600</td>\n",
       "      <td>70.907700</td>\n",
       "      <td>71.917600</td>\n",
       "      <td>1.030855e+08</td>\n",
       "      <td>NaN</td>\n",
       "    </tr>\n",
       "    <tr>\n",
       "      <th>2019-12-30</th>\n",
       "      <td>70.893800</td>\n",
       "      <td>71.686400</td>\n",
       "      <td>69.854900</td>\n",
       "      <td>71.398300</td>\n",
       "      <td>1.472306e+08</td>\n",
       "      <td>NaN</td>\n",
       "    </tr>\n",
       "    <tr>\n",
       "      <th>2019-12-27</th>\n",
       "      <td>71.301500</td>\n",
       "      <td>71.997400</td>\n",
       "      <td>70.564700</td>\n",
       "      <td>70.975500</td>\n",
       "      <td>1.494081e+08</td>\n",
       "      <td>NaN</td>\n",
       "    </tr>\n",
       "    <tr>\n",
       "      <th>2019-12-26</th>\n",
       "      <td>69.759200</td>\n",
       "      <td>71.021400</td>\n",
       "      <td>69.730300</td>\n",
       "      <td>71.003400</td>\n",
       "      <td>9.527219e+07</td>\n",
       "      <td>NaN</td>\n",
       "    </tr>\n",
       "    <tr>\n",
       "      <th>2019-12-24</th>\n",
       "      <td>69.727300</td>\n",
       "      <td>69.776200</td>\n",
       "      <td>69.290700</td>\n",
       "      <td>69.622600</td>\n",
       "      <td>4.948450e+07</td>\n",
       "      <td>NaN</td>\n",
       "    </tr>\n",
       "    <tr>\n",
       "      <th>...</th>\n",
       "      <td>...</td>\n",
       "      <td>...</td>\n",
       "      <td>...</td>\n",
       "      <td>...</td>\n",
       "      <td>...</td>\n",
       "      <td>...</td>\n",
       "    </tr>\n",
       "    <tr>\n",
       "      <th>2000-01-07</th>\n",
       "      <td>0.734260</td>\n",
       "      <td>0.768656</td>\n",
       "      <td>0.726983</td>\n",
       "      <td>0.757589</td>\n",
       "      <td>5.405029e+08</td>\n",
       "      <td>0.851337</td>\n",
       "    </tr>\n",
       "    <tr>\n",
       "      <th>2000-01-06</th>\n",
       "      <td>0.807736</td>\n",
       "      <td>0.814416</td>\n",
       "      <td>0.722995</td>\n",
       "      <td>0.722995</td>\n",
       "      <td>9.009346e+08</td>\n",
       "      <td>0.848689</td>\n",
       "    </tr>\n",
       "    <tr>\n",
       "      <th>2000-01-05</th>\n",
       "      <td>0.789591</td>\n",
       "      <td>0.841433</td>\n",
       "      <td>0.783809</td>\n",
       "      <td>0.791386</td>\n",
       "      <td>9.130750e+08</td>\n",
       "      <td>0.846197</td>\n",
       "    </tr>\n",
       "    <tr>\n",
       "      <th>2000-01-04</th>\n",
       "      <td>0.823887</td>\n",
       "      <td>0.842031</td>\n",
       "      <td>0.770250</td>\n",
       "      <td>0.780021</td>\n",
       "      <td>6.010873e+08</td>\n",
       "      <td>0.844813</td>\n",
       "    </tr>\n",
       "    <tr>\n",
       "      <th>2000-01-03</th>\n",
       "      <td>0.798165</td>\n",
       "      <td>0.855889</td>\n",
       "      <td>0.773839</td>\n",
       "      <td>0.851702</td>\n",
       "      <td>6.285611e+08</td>\n",
       "      <td>0.843172</td>\n",
       "    </tr>\n",
       "  </tbody>\n",
       "</table>\n",
       "<p>5031 rows × 6 columns</p>\n",
       "</div>"
      ],
      "text/plain": [
       "                 Open       High        Low      Close        Volume  \\\n",
       "Date                                                                   \n",
       "2019-12-31  71.008400  71.924600  70.907700  71.917600  1.030855e+08   \n",
       "2019-12-30  70.893800  71.686400  69.854900  71.398300  1.472306e+08   \n",
       "2019-12-27  71.301500  71.997400  70.564700  70.975500  1.494081e+08   \n",
       "2019-12-26  69.759200  71.021400  69.730300  71.003400  9.527219e+07   \n",
       "2019-12-24  69.727300  69.776200  69.290700  69.622600  4.948450e+07   \n",
       "...               ...        ...        ...        ...           ...   \n",
       "2000-01-07   0.734260   0.768656   0.726983   0.757589  5.405029e+08   \n",
       "2000-01-06   0.807736   0.814416   0.722995   0.722995  9.009346e+08   \n",
       "2000-01-05   0.789591   0.841433   0.783809   0.791386  9.130750e+08   \n",
       "2000-01-04   0.823887   0.842031   0.770250   0.780021  6.010873e+08   \n",
       "2000-01-03   0.798165   0.855889   0.773839   0.851702  6.285611e+08   \n",
       "\n",
       "            Open rolling  \n",
       "Date                      \n",
       "2019-12-31           NaN  \n",
       "2019-12-30           NaN  \n",
       "2019-12-27           NaN  \n",
       "2019-12-26           NaN  \n",
       "2019-12-24           NaN  \n",
       "...                  ...  \n",
       "2000-01-07      0.851337  \n",
       "2000-01-06      0.848689  \n",
       "2000-01-05      0.846197  \n",
       "2000-01-04      0.844813  \n",
       "2000-01-03      0.843172  \n",
       "\n",
       "[5031 rows x 6 columns]"
      ]
     },
     "execution_count": 52,
     "metadata": {},
     "output_type": "execute_result"
    }
   ],
   "source": [
    "data"
   ]
  },
  {
   "cell_type": "code",
   "execution_count": 54,
   "id": "048160c3",
   "metadata": {},
   "outputs": [
    {
     "data": {
      "text/plain": [
       "<Axes: xlabel='Date'>"
      ]
     },
     "execution_count": 54,
     "metadata": {},
     "output_type": "execute_result"
    },
    {
     "data": {
      "image/png": "[encoded data removed]",
      "text/plain": [
       "<Figure size 1500x500 with 1 Axes>"
      ]
     },
     "metadata": {},
     "output_type": "display_data"
    }
   ],
   "source": [
    "data[['Open','Open rolling']].plot(figsize= (15, 5))"
   ]
  },
  {
   "cell_type": "code",
   "execution_count": 55,
   "id": "4e224d68",
   "metadata": {},
   "outputs": [
    {
     "data": {
      "text/plain": [
       "Date\n",
       "2019-12-31          NaN\n",
       "2019-12-30    70.951100\n",
       "2019-12-27    71.067900\n",
       "2019-12-26    70.740725\n",
       "2019-12-24    70.538040\n",
       "2019-12-23    70.077640\n",
       "2019-12-20    69.723500\n",
       "2019-12-19    69.154640\n",
       "2019-12-18    68.908800\n",
       "2019-12-17    68.657960\n",
       "2019-12-16    68.484700\n",
       "2019-12-13    67.957320\n",
       "2019-12-12    67.383060\n",
       "2019-12-11    66.844500\n",
       "2019-12-10    66.306960\n",
       "Name: Open, dtype: float64"
      ]
     },
     "execution_count": 55,
     "metadata": {},
     "output_type": "execute_result"
    }
   ],
   "source": [
    "data['Open'].rolling(5,min_periods=2).mean().head(15)"
   ]
  },
  {
   "cell_type": "code",
   "execution_count": 56,
   "id": "35506e0c",
   "metadata": {},
   "outputs": [
    {
     "data": {
      "text/plain": [
       "Date\n",
       "2019-12-31    71.008400\n",
       "2019-12-30    70.951100\n",
       "2019-12-27    71.067900\n",
       "2019-12-26    70.740725\n",
       "2019-12-24    70.538040\n",
       "2019-12-23    70.077640\n",
       "2019-12-20    69.723500\n",
       "2019-12-19    69.154640\n",
       "2019-12-18    68.908800\n",
       "2019-12-17    68.657960\n",
       "2019-12-16    68.484700\n",
       "2019-12-13    67.957320\n",
       "2019-12-12    67.383060\n",
       "2019-12-11    66.844500\n",
       "2019-12-10    66.306960\n",
       "Name: Open, dtype: float64"
      ]
     },
     "execution_count": 56,
     "metadata": {},
     "output_type": "execute_result"
    }
   ],
   "source": [
    "data['Open'].rolling(5,min_periods=1).mean().head(15)"
   ]
  },
  {
   "cell_type": "code",
   "execution_count": 57,
   "id": "142b20b3",
   "metadata": {},
   "outputs": [
    {
     "data": {
      "text/plain": [
       "<Axes: xlabel='Date'>"
      ]
     },
     "execution_count": 57,
     "metadata": {},
     "output_type": "execute_result"
    },
    {
     "data": {
      "image/png": "[encoded data removed]",
      "text/plain": [
       "<Figure size 640x480 with 1 Axes>"
      ]
     },
     "metadata": {},
     "output_type": "display_data"
    }
   ],
   "source": [
    "data['Open'].rolling(5,min_periods=1).mean().plot()"
   ]
  },
  {
   "cell_type": "code",
   "execution_count": 58,
   "id": "cf5017ec",
   "metadata": {},
   "outputs": [
    {
     "data": {
      "text/plain": [
       "<Axes: xlabel='Date'>"
      ]
     },
     "execution_count": 58,
     "metadata": {},
     "output_type": "execute_result"
    },
    {
     "data": {
      "image/png": "[encoded data removed]",
      "text/plain": [
       "<Figure size 640x480 with 1 Axes>"
      ]
     },
     "metadata": {},
     "output_type": "display_data"
    }
   ],
   "source": [
    "data['Open'].rolling(50,min_periods=1).mean().plot()"
   ]
  },
  {
   "cell_type": "code",
   "execution_count": 59,
   "id": "8842fd75",
   "metadata": {},
   "outputs": [
    {
     "data": {
      "text/plain": [
       "<Axes: xlabel='Date'>"
      ]
     },
     "execution_count": 59,
     "metadata": {},
     "output_type": "execute_result"
    },
    {
     "data": {
      "image/png": "[encoded data removed]",
      "text/plain": [
       "<Figure size 640x480 with 1 Axes>"
      ]
     },
     "metadata": {},
     "output_type": "display_data"
    }
   ],
   "source": [
    "data['Open'].rolling(500,min_periods=1).mean().plot()"
   ]
  },
  {
   "cell_type": "code",
   "execution_count": null,
   "id": "eb7aa6f1",
   "metadata": {},
   "outputs": [],
   "source": []
  }
 ],
 "metadata": {
  "kernelspec": {
   "display_name": "Python 3 (ipykernel)",
   "language": "python",
   "name": "python3"
  },
  "language_info": {
   "codemirror_mode": {
    "name": "ipython",
    "version": 3
   },
   "file_extension": ".py",
   "mimetype": "text/x-python",
   "name": "python",
   "nbconvert_exporter": "python",
   "pygments_lexer": "ipython3",
   "version": "3.11.5"
  }
 },
 "nbformat": 4,
 "nbformat_minor": 5
}
